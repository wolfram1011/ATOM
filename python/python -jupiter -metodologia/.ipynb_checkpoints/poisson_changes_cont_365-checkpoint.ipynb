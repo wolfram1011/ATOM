{
 "cells": [
  {
   "cell_type": "code",
   "execution_count": 85,
   "id": "conventional-synthesis",
   "metadata": {},
   "outputs": [],
   "source": [
    "\n",
    "import pandas as pd\n",
    "df12 = pd.read_csv('C:/Users/ASTRONAUTA/Documents/UNADM PROYECTO TERMINAL/datos contaminantes/cen.csv')\n",
    "\n",
    "df12= df12[['Date','1:O3']]\n",
    "\n",
    "from datetime import datetime\n",
    "\n",
    "df12['Date'] = pd.to_datetime(df12['Date'])\n",
    "\n",
    "df12 = df12.iloc[:8806]\n",
    "df12 = df12.iloc[23:]\n",
    "df12=df12.reset_index()\n",
    "\n",
    "for i in range(8782):\n",
    "    if df12.loc[i,'1:O3'] == '-':\n",
    "        df12.loc[i,'1:O3'] = media\n",
    "        \n",
    "\n",
    "df12['1:O3'] = df12['1:O3'].astype(float)\n",
    "lcont12 = []\n",
    "\n",
    "suma = 0\n",
    "for j in range(8782):\n",
    "    if df12.loc[j,'Date'] == df12.loc[j+1,'Date']:\n",
    "        suma = df12.loc[j,'1:O3'] + df12.loc[j+1,'1:O3']\n",
    "        \n",
    "    else:\n",
    "        lcont12.append(suma)\n",
    "        suma =0\n",
    "\n",
    "    \n",
    "        \n",
    "\n",
    "#df12=df12.sort_values(by='INGRE',ignore_index=True)\n"
   ]
  },
  {
   "cell_type": "code",
   "execution_count": 70,
   "id": "quantitative-christian",
   "metadata": {},
   "outputs": [
    {
     "name": "stdout",
     "output_type": "stream",
     "text": [
      "<class 'numpy.float64'>\n",
      "hola\n",
      "313\n"
     ]
    },
    {
     "data": {
      "text/plain": [
       "0.024490781270725067"
      ]
     },
     "execution_count": 70,
     "metadata": {},
     "output_type": "execute_result"
    }
   ],
   "source": [
    "#df12=df12.reset_index()\n",
    "#display(df12)\n",
    "#type(df12.loc[0,'Date'])\n",
    "df12.shape[0]\n",
    "\n",
    "\n",
    "#df12['1:O3'] = pd.to_numeric(df12['1:O3'])\n",
    "print(type(df12.loc[0,'1:O3']))\n",
    "\n",
    "if df12.loc[0,'Date'] == df12.loc[1,'Date']:\n",
    "    print('hola')\n",
    "    \n",
    "print(len(lcont12))\n",
    "%store -r media\n",
    "media"
   ]
  },
  {
   "cell_type": "code",
   "execution_count": 86,
   "id": "adolescent-leisure",
   "metadata": {},
   "outputs": [
    {
     "data": {
      "text/plain": [
       "365"
      ]
     },
     "execution_count": 86,
     "metadata": {},
     "output_type": "execute_result"
    }
   ],
   "source": [
    "len(lcont12)"
   ]
  }
 ],
 "metadata": {
  "kernelspec": {
   "display_name": "Python 3",
   "language": "python",
   "name": "python3"
  },
  "language_info": {
   "codemirror_mode": {
    "name": "ipython",
    "version": 3
   },
   "file_extension": ".py",
   "mimetype": "text/x-python",
   "name": "python",
   "nbconvert_exporter": "python",
   "pygments_lexer": "ipython3",
   "version": "3.9.2"
  }
 },
 "nbformat": 4,
 "nbformat_minor": 5
}
