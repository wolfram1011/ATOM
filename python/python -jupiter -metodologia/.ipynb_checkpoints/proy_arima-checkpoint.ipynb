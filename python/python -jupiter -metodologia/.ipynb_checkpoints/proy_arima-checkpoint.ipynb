{
 "cells": [
  {
   "cell_type": "code",
   "execution_count": 1,
   "id": "packed-aside",
   "metadata": {},
   "outputs": [],
   "source": [
    "import pandas as pd\n",
    "import numpy as np\n",
    "\n",
    "\n"
   ]
  },
  {
   "cell_type": "code",
   "execution_count": 2,
   "id": "turned-commissioner",
   "metadata": {},
   "outputs": [],
   "source": [
    "db = 'C:/Users/ASTRONAUTA/Documents/UNADM PROYECTO TERMINAL/datos contaminantes/datos_2011.csv'\n",
    "\n",
    "def cont11f(db):\n",
    "\n",
    "    cont11 = pd.read_csv(db)\n",
    "    cont11['PARAMETRO']=cont11['PARAMETRO'].astype(str)\n",
    "    cont11['CLAVE_EST']=cont11['CLAVE_EST'].astype(str)\n",
    "    cont11=cont11[cont11[\"PARAMETRO\"].str.contains(\"O3\") & cont11[\"CLAVE_EST\"].str.contains(\"CEN\")]\n",
    "    cont11['FECHA'] = pd.to_datetime(cont11['FECHA'])\n",
    "    cont11=cont11.sort_values(by='FECHA',ignore_index=True)\n",
    "    time = pd.to_datetime('2011/12/1')\n",
    "    aft = pd.to_datetime('2011/12/31')\n",
    "    cont11=cont11.loc[(cont11['FECHA'] >= time)&((cont11['FECHA'] <= aft))]\n",
    "    cont11=cont11.drop(336,axis=0)\n",
    "    cont11=cont11.drop(344,axis=0)\n",
    "    cont11=cont11.drop(345,axis=0)\n",
    "    cont11=cont11.reset_index()\n",
    "    cont11.loc[20,'HORA17'] = 0\n",
    "    col=cont11.columns\n",
    "    col=col.tolist()\n",
    "    col=col[5:]\n",
    "    suma = 0\n",
    "    for i in col:\n",
    "        cont11[col]=cont11[col].astype(float)\n",
    "    \n",
    "    lcont11 = []    \n",
    "    for j in range(cont11.shape[0]):\n",
    "        for i in range(len(col)):\n",
    "            if i == len(col)-1:\n",
    "                lcont11.append(suma/len(col))\n",
    "                suma = 0\n",
    "                continue\n",
    "            suma=cont11.loc[j,col[i]] + cont11.loc[j,col[i+1]]\n",
    "    return lcont11\n"
   ]
  },
  {
   "cell_type": "code",
   "execution_count": 3,
   "id": "collaborative-falls",
   "metadata": {},
   "outputs": [],
   "source": [
    "lcont11=cont11f(db)\n"
   ]
  },
  {
   "cell_type": "code",
   "execution_count": 14,
   "id": "statewide-battlefield",
   "metadata": {},
   "outputs": [
    {
     "name": "stdout",
     "output_type": "stream",
     "text": [
      "366\n"
     ]
    },
    {
     "data": {
      "text/plain": [
       "393"
      ]
     },
     "execution_count": 14,
     "metadata": {},
     "output_type": "execute_result"
    }
   ],
   "source": [
    "#diferenciando serie \n",
    "%store -r clcont12\n",
    "lcont12=clcont12\n",
    "lconti = lcont11 + lcont12\n",
    "I=[]\n",
    "for i in range(len(lconti)):\n",
    "    if i == 0:\n",
    "        continue\n",
    "    diff=lconti[i]-lconti[i-1]\n",
    "    I.append(diff)\n",
    "print(len(lcont12))\n",
    "365+28"
   ]
  },
  {
   "cell_type": "code",
   "execution_count": 17,
   "id": "tribal-regulation",
   "metadata": {},
   "outputs": [
    {
     "name": "stdout",
     "output_type": "stream",
     "text": [
      "365\n"
     ]
    }
   ],
   "source": [
    "wsize = 28\n",
    "j = 0\n",
    "# metodo moving averages\n",
    "ma = []\n",
    "while j < len(I) - wsize + 1:\n",
    "    window = I[j : j + wsize]\n",
    "    waverage = sum(window) / wsize\n",
    "    \n",
    "    ma.append(waverage)\n",
    "    j += 1\n",
    "#ma=ma[1:364]\n",
    "\n",
    "ma.pop(0)\n",
    "print(len(ma))    \n"
   ]
  },
  {
   "cell_type": "code",
   "execution_count": 7,
   "id": "municipal-oxygen",
   "metadata": {},
   "outputs": [
    {
     "name": "stdout",
     "output_type": "stream",
     "text": [
      "Stored 'arima12' (list)\n"
     ]
    }
   ],
   "source": [
    "macont11=[]\n",
    "macont11.append(lcont11[0])\n",
    "for x in range(len(ma)):\n",
    "    macont11.append(macont11[x]+ma[x])\n",
    "     #print(macont11[0])\n",
    "        \n",
    "arima12=macont11\n",
    "    \n",
    "%store arima12\n",
    "del arima12\n"
   ]
  },
  {
   "cell_type": "code",
   "execution_count": 68,
   "id": "nasty-adobe",
   "metadata": {},
   "outputs": [
    {
     "name": "stdout",
     "output_type": "stream",
     "text": [
      "[0.023324200442892233, 0.019878868575505363, 0.03082175792147855, 0.024380502404751838, 0.034214329446912335, 0.02996797109164949, 0.026293806628781825, 0.02068590450456897, 0.0209542370590278, 0.02530517711171662, 0.020914812457509774, 0.017147807603911068]\n",
      "[0.0007520405756680009, 0.0003918510217750896, 0.0005806889143339688, 1.4994278136555347e-06, 0.0004491060709170218, 0.00044723001161854696, 0.0002207246788775617, 0.0002766473591813051, 0.00022350523638635242, 0.000475721200991781, 0.0003942704366770421, 0.0003267136098794267]\n",
      "12\n",
      "12\n"
     ]
    }
   ],
   "source": [
    "# Estudio de medias y varianza- analizar si se debe diferenciar la serie \n",
    "\n",
    "import statistics\n",
    "medias=[]\n",
    "l=0\n",
    "m=734\n",
    "while l+1 <= 12:\n",
    "    partition=series[l*m:m*(l+1)]\n",
    "    x = statistics.mean(partition)\n",
    "    medias.append(x)\n",
    "    l+=1\n",
    "print(medias)\n",
    "\n",
    "varia=[]\n",
    "y=0\n",
    "m=734\n",
    "while y+1 <= 12:\n",
    "    part=series[y*m:m*(y+1)]\n",
    "    z = statistics.variance(part)\n",
    "    varia.append(z)\n",
    "    y+=1\n",
    "print(varia)\n",
    "print(len(varia))\n",
    "print(len(medias))\n"
   ]
  }
 ],
 "metadata": {
  "kernelspec": {
   "display_name": "Python 3",
   "language": "python",
   "name": "python3"
  },
  "language_info": {
   "codemirror_mode": {
    "name": "ipython",
    "version": 3
   },
   "file_extension": ".py",
   "mimetype": "text/x-python",
   "name": "python",
   "nbconvert_exporter": "python",
   "pygments_lexer": "ipython3",
   "version": "3.9.2"
  }
 },
 "nbformat": 4,
 "nbformat_minor": 5
}
